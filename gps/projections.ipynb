{
 "cells": [
  {
   "cell_type": "markdown",
   "metadata": {},
   "source": [
    "# Geographic Projections\n",
    "\n",
    "Types:\n",
    "\n",
    "- Polar Planar\n",
    "- Conic\n",
    "- Cylindrical\n",
    "  - Transverse Mercator - cylinder is tangent along a meridian (90 deg)\n",
    "- \"Origami\" (Orange peel type)\n",
    "\n",
    "## Projected Coordinate Systems\n",
    "\n",
    "- Local Work\n",
    "  - State Plane Coordinate System\n",
    "  - UTM (Universal Transverse Mercator)\n",
    "- Regional / continental work\n",
    "  - North American Albers Equal Area __Conic__\n",
    "  - North American Lambert Conformal __Conic__\n",
    "  - ..."
   ]
  },
  {
   "cell_type": "code",
   "execution_count": 1,
   "metadata": {},
   "outputs": [
    {
     "data": {
      "text/html": [
       "<div>\n",
       "<style scoped>\n",
       "    .dataframe tbody tr th:only-of-type {\n",
       "        vertical-align: middle;\n",
       "    }\n",
       "\n",
       "    .dataframe tbody tr th {\n",
       "        vertical-align: top;\n",
       "    }\n",
       "\n",
       "    .dataframe thead th {\n",
       "        text-align: right;\n",
       "    }\n",
       "</style>\n",
       "<table border=\"1\" class=\"dataframe\">\n",
       "  <thead>\n",
       "    <tr style=\"text-align: right;\">\n",
       "      <th></th>\n",
       "      <th>lat</th>\n",
       "      <th>lon</th>\n",
       "    </tr>\n",
       "  </thead>\n",
       "  <tbody>\n",
       "    <tr>\n",
       "      <th>0</th>\n",
       "      <td>50.110918</td>\n",
       "      <td>8.661092</td>\n",
       "    </tr>\n",
       "    <tr>\n",
       "      <th>1</th>\n",
       "      <td>50.110918</td>\n",
       "      <td>8.661093</td>\n",
       "    </tr>\n",
       "    <tr>\n",
       "      <th>2</th>\n",
       "      <td>50.110918</td>\n",
       "      <td>8.661092</td>\n",
       "    </tr>\n",
       "    <tr>\n",
       "      <th>3</th>\n",
       "      <td>50.110918</td>\n",
       "      <td>8.661092</td>\n",
       "    </tr>\n",
       "    <tr>\n",
       "      <th>4</th>\n",
       "      <td>50.110918</td>\n",
       "      <td>8.661093</td>\n",
       "    </tr>\n",
       "  </tbody>\n",
       "</table>\n",
       "</div>"
      ],
      "text/plain": [
       "         lat       lon\n",
       "0  50.110918  8.661092\n",
       "1  50.110918  8.661093\n",
       "2  50.110918  8.661092\n",
       "3  50.110918  8.661092\n",
       "4  50.110918  8.661093"
      ]
     },
     "execution_count": 1,
     "metadata": {},
     "output_type": "execute_result"
    }
   ],
   "source": [
    "import pandas as pd\n",
    "\n",
    "# dataset \"frankfurt2_westendtower\" taken from: https://www.tu-chemnitz.de/projekt/smartLoc/gnss_dataset.html.en#Datasets\n",
    "\n",
    "# df = pd.read_csv(\"coordinates-1.csv\")\n",
    "df_full = pd.read_csv('datasets/frankfurt2_westendtower/BESTPOS.csv', sep=';')\n",
    "df = pd.DataFrame({\n",
    "    'lat': df_full[\"Latitude (lat) [deg]\"],\n",
    "    'lon': df_full[\"Longitude (lon) [deg]\"]\n",
    "})\n",
    "df.head()"
   ]
  },
  {
   "cell_type": "markdown",
   "metadata": {},
   "source": [
    "# Plot Lat, Lon (unmodified)"
   ]
  },
  {
   "cell_type": "code",
   "execution_count": 2,
   "metadata": {},
   "outputs": [
    {
     "data": {
      "image/png": "[encoded data removed]",
      "text/plain": [
       "<Figure size 432x288 with 1 Axes>"
      ]
     },
     "metadata": {
      "needs_background": "light"
     },
     "output_type": "display_data"
    }
   ],
   "source": [
    "import matplotlib.pyplot as plt\n",
    "import plotly.express as px\n",
    "\n",
    "plt.scatter(x=df['lon'], y=df['lat'])\n",
    "plt.show()"
   ]
  },
  {
   "cell_type": "markdown",
   "metadata": {},
   "source": [
    "# Plot UTM "
   ]
  },
  {
   "cell_type": "code",
   "execution_count": 3,
   "metadata": {},
   "outputs": [
    {
     "name": "stdout",
     "output_type": "stream",
     "text": [
      "Zone: 32U\n"
     ]
    },
    {
     "data": {
      "image/png": "[encoded data removed]",
      "text/plain": [
       "<Figure size 432x288 with 1 Axes>"
      ]
     },
     "metadata": {
      "needs_background": "light"
     },
     "output_type": "display_data"
    }
   ],
   "source": [
    "import utm\n",
    "\n",
    "# (easting, northing, zone_number, zone_letter) = utm.from_latlon(50.11, 8.6)\n",
    "# (easting, northing, zone_number, zone_letter) = utm.from_latlon(np.array([50.11, 49.1]), np.array([8.6, 8.4]))\n",
    "(easting, northing, zone_number, zone_letter) = utm.from_latlon(df['lat'].to_numpy(), df['lon'].to_numpy())\n",
    "print(\"Zone: \" + str(zone_number) + zone_letter)\n",
    "\n",
    "plt.scatter(x=easting, y=northing)\n",
    "plt.show()\n",
    "# px.scatter(x=easting, y=northing, width=600, height=400)"
   ]
  }
 ],
 "metadata": {
  "interpreter": {
   "hash": "31f2aee4e71d21fbe5cf8b01ff0e069b9275f58929596ceb00d14d90e3e16cd6"
  },
  "kernelspec": {
   "display_name": "Python 3.10.4 64-bit",
   "language": "python",
   "name": "python3"
  },
  "language_info": {
   "codemirror_mode": {
    "name": "ipython",
    "version": 3
   },
   "file_extension": ".py",
   "mimetype": "text/x-python",
   "name": "python",
   "nbconvert_exporter": "python",
   "pygments_lexer": "ipython3",
   "version": "3.10.4"
  },
  "orig_nbformat": 4
 },
 "nbformat": 4,
 "nbformat_minor": 2
}
